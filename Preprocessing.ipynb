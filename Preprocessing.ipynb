{
 "cells": [
  {
   "cell_type": "code",
   "execution_count": null,
   "metadata": {},
   "outputs": [],
   "source": [
    "import pandas as pd\n",
    "import matplotlib.pyplot as plt\n",
    "import numpy as np\n",
    "from keras import layers, models\n",
    "import tensorflow as tf\n",
    "from tensorflow.keras.utils import load_img\n",
    "from sklearn.model_selection import train_test_split\n",
    "import matplotlib.image as mpimg\n",
    "import zipfile\n",
    "import os\n",
    "import re\n",
    "import cv2"
   ]
  },
  {
   "cell_type": "code",
   "execution_count": null,
   "metadata": {},
   "outputs": [],
   "source": [
    "datasetPath = r\"D:/MS Computer Engineering/Semester 1/CV/shuffled/\"\n",
    "for files in  os.listdir(datasetPath):\n",
    "    print(files)\n",
    "    # im = cv2.cv.LoadImage(datasetPath+rawstr(files), cv2.CV_LOAD_IMAGE_COLOR)\n",
    "    img=mpimg.imread(datasetPath+str(files),0)\n",
    "    img=cv2.resize(img, (224, 224))"
   ]
  },
  {
   "cell_type": "code",
   "execution_count": null,
   "metadata": {},
   "outputs": [],
   "source": [
    "classifiedDataset = r\"D:\\MS Computer Engineering\\Semester 1\\CV\\classified_dataset/\"\n",
    "for files in  os.listdir(datasetPath):\n",
    "    index1=re.findall(r'\\d\\dt',files)\n",
    "    index=int(index1[0][0:2])\n",
    "    img=cv2.imread(datasetPath+str(files),0)\n",
    "    print(index)\n",
    "    print(files[:-4])\n",
    "    if not os.path.exists(classifiedDataset+str(index)+'/'):\n",
    "        os.makedirs(classifiedDataset+str(index)+'/')\n",
    "    cv2.imwrite(classifiedDataset+'/'+str(index)+'/'+files[0:-4]+'.jpg',img)"
   ]
  }
 ],
 "metadata": {
  "kernelspec": {
   "display_name": "Python 3.10.4 64-bit",
   "language": "python",
   "name": "python3"
  },
  "language_info": {
   "name": "python",
   "version": "3.10.4"
  },
  "orig_nbformat": 4,
  "vscode": {
   "interpreter": {
    "hash": "26de051ba29f2982a8de78e945f0abaf191376122a1563185a90213a26c5da77"
   }
  }
 },
 "nbformat": 4,
 "nbformat_minor": 2
}
